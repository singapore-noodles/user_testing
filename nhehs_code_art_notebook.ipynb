{
 "cells": [
  {
   "cell_type": "markdown",
   "metadata": {
    "nteract": {
     "transient": {
      "deleting": false
     }
    }
   },
   "source": [
    "# NHEHS Code Art - Blank Notebook!"
   ]
  },
  {
   "cell_type": "markdown",
   "metadata": {
    "nteract": {
     "transient": {
      "deleting": false
     }
    }
   },
   "source": [
    "----"
   ]
  },
  {
   "cell_type": "code",
   "execution_count": null,
   "metadata": {},
   "outputs": [],
   "source": []
  },
  {
   "cell_type": "code",
   "execution_count": null,
   "metadata": {},
   "outputs": [],
   "source": []
  },
  {
   "cell_type": "code",
   "execution_count": null,
   "metadata": {},
   "outputs": [],
   "source": []
  },
  {
   "cell_type": "code",
   "execution_count": null,
   "metadata": {},
   "outputs": [],
   "source": []
  },
  {
   "cell_type": "code",
   "execution_count": null,
   "metadata": {},
   "outputs": [],
   "source": []
  },
  {
   "cell_type": "code",
   "execution_count": null,
   "metadata": {},
   "outputs": [],
   "source": []
  },
  {
   "cell_type": "code",
   "execution_count": null,
   "metadata": {},
   "outputs": [],
   "source": []
  },
  {
   "cell_type": "code",
   "execution_count": null,
   "metadata": {},
   "outputs": [],
   "source": []
  },
  {
   "cell_type": "markdown",
   "metadata": {},
   "source": [
    "---\n",
    "Copyright © Rho Zeta AI Limited 2020    \n",
    "All rights reserved"
   ]
  },
  {
   "cell_type": "markdown",
   "metadata": {},
   "source": [
    "Copyright © 2020 Project Jupyter    \n",
    "All rights reserved"
   ]
  },
  {
   "cell_type": "markdown",
   "metadata": {},
   "source": [
    "Copyright (c) 2012-2013 Matplotlib Development Team; All Rights Reserved    \n",
    "License agreement for matplotlib 3.1.1        \n",
    "\n",
    "1. This LICENSE AGREEMENT is between the Matplotlib Development Team (\"MDT\"), and the Individual or Organization (\"Licensee\") accessing and otherwise using matplotlib software in source or binary form and its associated documentation.\n",
    "\n",
    "2. Subject to the terms and conditions of this License Agreement, MDT hereby grants Licensee a nonexclusive, royalty-free, world-wide license to reproduce, analyze, test, perform and/or display publicly, prepare derivative works, distribute, and otherwise use matplotlib 3.1.1 alone or in any derivative version, provided, however, that MDT's License Agreement and MDT's notice of copyright, i.e., \"Copyright (c) 2012-2013 Matplotlib Development Team; All Rights Reserved\" are retained in matplotlib 3.1.1 alone or in any derivative version prepared by Licensee.\n",
    "\n",
    "3. In the event Licensee prepares a derivative work that is based on or incorporates matplotlib 3.1.1 or any part thereof, and wants to make the derivative work available to others as provided herein, then Licensee hereby agrees to include in any such work a brief summary of the changes made to matplotlib 3.1.1.\n",
    "\n",
    "4. MDT is making matplotlib 3.1.1 available to Licensee on an \"AS IS\" basis. MDT MAKES NO REPRESENTATIONS OR WARRANTIES, EXPRESS OR IMPLIED. BY WAY OF EXAMPLE, BUT NOT LIMITATION, MDT MAKES NO AND DISCLAIMS ANY REPRESENTATION OR WARRANTY OF MERCHANTABILITY OR FITNESS FOR ANY PARTICULAR PURPOSE OR THAT THE USE OF MATPLOTLIB 3.1.1 WILL NOT INFRINGE ANY THIRD PARTY RIGHTS.\n",
    "\n",
    "5. MDT SHALL NOT BE LIABLE TO LICENSEE OR ANY OTHER USERS OF MATPLOTLIB 3.1.1 FOR ANY INCIDENTAL, SPECIAL, OR CONSEQUENTIAL DAMAGES OR LOSS AS A RESULT OF MODIFYING, DISTRIBUTING, OR OTHERWISE USING MATPLOTLIB 3.1.1, OR ANY DERIVATIVE THEREOF, EVEN IF ADVISED OF THE POSSIBILITY THEREOF.\n",
    "\n",
    "6. This License Agreement will automatically terminate upon a material breach of its terms and conditions.\n",
    "\n",
    "7. Nothing in this License Agreement shall be deemed to create any relationship of agency, partnership, or joint venture between MDT and Licensee. This License Agreement does not grant permission to use MDT trademarks or trade name in a trademark sense to endorse or promote products or services of Licensee, or any third party.\n",
    "\n",
    "8. By copying, installing or otherwise using matplotlib 3.1.1, Licensee agrees to be bound by the terms and conditions of this License Agreement.\n"
   ]
  },
  {
   "cell_type": "markdown",
   "metadata": {},
   "source": [
    "The Python Imaging Library (PIL) is    \n",
    "\n",
    "    Copyright © 1997-2011 by Secret Labs AB     \n",
    "    Copyright © 1995-2011 by Fredrik Lundh    \n",
    "\n",
    "Pillow is the friendly PIL fork. It is    \n",
    "\n",
    "    Copyright © 2010-2020 by Alex Clark and contributors    \n",
    "\n",
    "Like PIL, Pillow is licensed under the open source PIL Software License:    \n",
    "\n",
    "By obtaining, using, and/or copying this software and/or its associated documentation, you agree that you have read, understood, and will comply with the following terms and conditions:    \n",
    "\n",
    "Permission to use, copy, modify, and distribute this software and its associated documentation for any purpose and without fee is hereby granted, provided that the above copyright notice appears in all copies, and that both that copyright notice and this permission notice appear in supporting documentation, and that the name of Secret Labs AB or the author not be used in advertising or publicity pertaining to distribution of the software without specific, written prior permission.    \n",
    "\n",
    "SECRET LABS AB AND THE AUTHOR DISCLAIMS ALL WARRANTIES WITH REGARD TO THIS SOFTWARE, INCLUDING ALL IMPLIED WARRANTIES OF MERCHANTABILITY AND FITNESS. IN NO EVENT SHALL SECRET LABS AB OR THE AUTHOR BE LIABLE FOR ANY SPECIAL, INDIRECT OR CONSEQUENTIAL DAMAGES OR ANY DAMAGES WHATSOEVER RESULTING FROM LOSS OF USE, DATA OR PROFITS, WHETHER IN AN ACTION OF CONTRACT, NEGLIGENCE OR OTHER TORTIOUS ACTION, ARISING OUT OF OR IN CONNECTION WITH THE USE OR PERFORMANCE OF THIS SOFTWARE."
   ]
  },
  {
   "cell_type": "markdown",
   "metadata": {},
   "source": [
    "Copyright © 2001-2020 Python Software Foundation; All Rights Reserved    \n",
    "PSF LICENSE AGREEMENT FOR PYTHON 3.8.1    \n",
    "1. This LICENSE AGREEMENT is between the Python Software Foundation (\"PSF\"), and\n",
    "   the Individual or Organization (\"Licensee\") accessing and otherwise using Python\n",
    "   3.8.1 software in source or binary form and its associated documentation.\n",
    "\n",
    "2. Subject to the terms and conditions of this License Agreement, PSF hereby\n",
    "   grants Licensee a nonexclusive, royalty-free, world-wide license to reproduce,\n",
    "   analyze, test, perform and/or display publicly, prepare derivative works,\n",
    "   distribute, and otherwise use Python 3.8.1 alone or in any derivative\n",
    "   version, provided, however, that PSF's License Agreement and PSF's notice of\n",
    "   copyright, i.e., \"Copyright © 2001-2020 Python Software Foundation; All Rights\n",
    "   Reserved\" are retained in Python 3.8.1 alone or in any derivative version\n",
    "   prepared by Licensee.\n",
    "\n",
    "3. In the event Licensee prepares a derivative work that is based on or\n",
    "   incorporates Python 3.8.1 or any part thereof, and wants to make the\n",
    "   derivative work available to others as provided herein, then Licensee hereby\n",
    "   agrees to include in any such work a brief summary of the changes made to Python\n",
    "   3.8.1.\n",
    "\n",
    "4. PSF is making Python 3.8.1 available to Licensee on an \"AS IS\" basis.\n",
    "   PSF MAKES NO REPRESENTATIONS OR WARRANTIES, EXPRESS OR IMPLIED.  BY WAY OF\n",
    "   EXAMPLE, BUT NOT LIMITATION, PSF MAKES NO AND DISCLAIMS ANY REPRESENTATION OR\n",
    "   WARRANTY OF MERCHANTABILITY OR FITNESS FOR ANY PARTICULAR PURPOSE OR THAT THE\n",
    "   USE OF PYTHON 3.8.1 WILL NOT INFRINGE ANY THIRD PARTY RIGHTS.\n",
    "\n",
    "5. PSF SHALL NOT BE LIABLE TO LICENSEE OR ANY OTHER USERS OF PYTHON 3.8.1\n",
    "   FOR ANY INCIDENTAL, SPECIAL, OR CONSEQUENTIAL DAMAGES OR LOSS AS A RESULT OF\n",
    "   MODIFYING, DISTRIBUTING, OR OTHERWISE USING PYTHON 3.8.1, OR ANY DERIVATIVE\n",
    "   THEREOF, EVEN IF ADVISED OF THE POSSIBILITY THEREOF.\n",
    "\n",
    "6. This License Agreement will automatically terminate upon a material breach of\n",
    "   its terms and conditions.\n",
    "\n",
    "7. Nothing in this License Agreement shall be deemed to create any relationship\n",
    "   of agency, partnership, or joint venture between PSF and Licensee.  This License\n",
    "   Agreement does not grant permission to use PSF trademarks or trade name in a\n",
    "   trademark sense to endorse or promote products or services of Licensee, or any\n",
    "   third party.\n",
    "\n",
    "8. By copying, installing or otherwise using Python 3.8.1, Licensee agrees\n",
    "   to be bound by the terms and conditions of this License Agreement."
   ]
  },
  {
   "cell_type": "markdown",
   "metadata": {},
   "source": [
    "© 2015, Anaconda, Inc.    \n",
    "All rights reserved"
   ]
  },
  {
   "cell_type": "markdown",
   "metadata": {},
   "source": [
    "---"
   ]
  }
 ],
 "metadata": {
  "kernel_info": {
   "name": "python3"
  },
  "kernelspec": {
   "display_name": "Python 3",
   "language": "python",
   "name": "python3"
  },
  "language_info": {
   "codemirror_mode": {
    "name": "ipython",
    "version": 3
   },
   "file_extension": ".py",
   "mimetype": "text/x-python",
   "name": "python",
   "nbconvert_exporter": "python",
   "pygments_lexer": "ipython3",
   "version": "3.7.7"
  },
  "nteract": {
   "version": "0.24.1"
  }
 },
 "nbformat": 4,
 "nbformat_minor": 4
}
